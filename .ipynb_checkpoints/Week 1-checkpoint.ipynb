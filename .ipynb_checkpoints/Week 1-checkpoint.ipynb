{
 "cells": [
  {
   "cell_type": "markdown",
   "metadata": {},
   "source": [
    "# 데이터 저널리즘\n",
    "\n",
    "### week 1\n",
    "\n",
    "* 과제\n",
    "\n",
    "  * 개인 6개 (연습문제 느낌)\n",
    "    * 1) 면제 요청 가능\n",
    "    * 2) 간단한 프로그래밍 과제\n",
    "    * 3) 데이터 클리닝 (데이터 주면 가공)\n",
    "    * 4) 텍스트 처리\n",
    "    * 5) 웹 수집 + 통계처리 + 시각화\n",
    "    * 6) 날씨 기사\n",
    "  * 팀 1개 (중요)\n",
    "    * final project\n",
    "      * 주제 하나 잡아서 관련 데이터 수집, 분석 후 리포트 쓴 후 포스터 형태로 제출\n",
    "\n",
    "* 데이터 저널리즘이란?\n",
    "\n",
    "  * 프로퍼블리카\n",
    "    * 비즈니스 모델의 붕괴 (더 이상 한 기사 잘 써서 돈 벌 수 있지 X. 그래서 저품질 기사를 대량 생산. but 프로퍼블리카는 무료로 올리고 다른 비즈니스 모델을 탐구)\n",
    "  * data-driven 기사\n",
    "    * upshot\n",
    "    * FiveThirtyEight - visualization 매우 많이 쓰는 회사\n",
    "\n",
    "* 프로그래밍의 기초\n",
    "\n",
    "  * 사람이 이해할 수 있는 Source code --[해석기]--> 컴퓨터의 object code/binary code (exe, app...)\n",
    "\n",
    "    컴파일러\n",
    "\n",
    "    * (+) 실행 속도 빠름\n",
    "    * (-) 오류나 구조 변경 시, 재 compile 과정을 거쳐야\n",
    "\n",
    "    인터프리터: \n",
    "\n",
    "    * (-) 실행 속도 느림\n",
    "    * (+) 개발/업데이트 용이 → 프로토타이핑 툴에 많이 사용\n",
    "\n",
    "* 왜 프로그래밍을 배워야 하는가?\n",
    "\n",
    "  * 물리학에 의해 지배되는 세상을 살아가기 때문에 사회를 이해하려면 물리학이 도움되기 때문에 배움. 물리학자가 되고자가 아니라.\n",
    "  * 마찬가지로 이제는 컴퓨터공학에 의해 돌아가는 세상.\n",
    "  * computational X\n",
    "\n",
    "* 언어\n",
    "\n",
    "  * R: 통계처리가 편리. 시각화 내재된 게 있음.\n",
    "  * Python: 확장성이 뛰어남. 배우는 건 좀더 까다로움.\n",
    "    * "
   ]
  }
 ],
 "metadata": {
  "kernelspec": {
   "display_name": "Python 3",
   "language": "python",
   "name": "python3"
  },
  "language_info": {
   "codemirror_mode": {
    "name": "ipython",
    "version": 3
   },
   "file_extension": ".py",
   "mimetype": "text/x-python",
   "name": "python",
   "nbconvert_exporter": "python",
   "pygments_lexer": "ipython3",
   "version": "3.7.4"
  }
 },
 "nbformat": 4,
 "nbformat_minor": 2
}

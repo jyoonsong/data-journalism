{
 "cells": [
  {
   "cell_type": "markdown",
   "metadata": {},
   "source": [
    "# Week 2\n",
    "\n",
    "### Python 개발환경\n",
    "\n",
    "- pyenv: 여러 버전 간 switch 가능\n",
    "- pyenv 사용시 `eval \"$(pyenv init -)\"` 해줘야 함.\n",
    "https://stackoverflow.com/questions/33321312/cannot-switch-python-with-pyenv\n",
    "\n",
    "\n",
    "### Jupyter notebook 소개\n",
    "\n",
    "How it works\n",
    "- local web server를 하나 만들어서 개인 컴퓨터에서 실행\n",
    "- web browser 내에서 코딩을 하므로 코드 블록 단위로 interactive하게 할 수 있음.\n",
    "\n",
    "How to use\n",
    "1. 실행: `jupyter notebook`\n",
    "2. 접속: 자동 or 브라우저에 localhost 입력해서 접속\n",
    "3. 종료: `ctrl + C`\n",
    "\n",
    "Cells\n",
    "- markdown cell\n",
    "    - https://github.com/adam-p/markdown-here/wiki/MarkdownCheatsheet\n",
    "- python cell: `In [ ]:` 가 앞에 붙음\n",
    "    - `Out []:`은 실제 output일 때 붙음 (ex. print)\n",
    "    - 단순 결과값인 경우 안 붙음 (ex. 1+2)\n",
    "    \n",
    "### Git\n"
   ]
  },
  {
   "cell_type": "code",
   "execution_count": 1,
   "metadata": {},
   "outputs": [
    {
     "name": "stdout",
     "output_type": "stream",
     "text": [
      "Hello\n"
     ]
    }
   ],
   "source": [
    "print(\"Hello\")"
   ]
  },
  {
   "cell_type": "code",
   "execution_count": null,
   "metadata": {},
   "outputs": [],
   "source": []
  }
 ],
 "metadata": {
  "kernelspec": {
   "display_name": "Python 3",
   "language": "python",
   "name": "python3"
  },
  "language_info": {
   "codemirror_mode": {
    "name": "ipython",
    "version": 3
   },
   "file_extension": ".py",
   "mimetype": "text/x-python",
   "name": "python",
   "nbconvert_exporter": "python",
   "pygments_lexer": "ipython3",
   "version": "3.7.4"
  }
 },
 "nbformat": 4,
 "nbformat_minor": 2
}
